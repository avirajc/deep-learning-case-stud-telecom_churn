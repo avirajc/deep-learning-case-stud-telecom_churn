{
  "nbformat": 4,
  "nbformat_minor": 0,
  "metadata": {
    "colab": {
      "name": "telecom _churn assignment .ipynb",
      "provenance": []
    },
    "kernelspec": {
      "name": "python3",
      "display_name": "Python 3"
    },
    "language_info": {
      "name": "python"
    }
  },
  "cells": [
    {
      "cell_type": "code",
      "metadata": {
        "id": "3yrm8bTpmAIZ"
      },
      "source": [
        "import numpy as np\n",
        "import pandas as pd\n",
        "import matplotlib.pyplot as plt\n",
        "import seaborn as sns\n",
        "\n",
        "from sklearn.model_selection import  train_test_split\n",
        "from sklearn.preprocessing import StandardScaler,LabelEncoder\n",
        "\n",
        "from tensorflow.keras.models import Sequential\n",
        "from tensorflow.keras.layers import Dense\n",
        "\n",
        "from sklearn.metrics import classification_report\n",
        "\n",
        "import warnings\n",
        "warnings.filterwarnings('ignore')"
      ],
      "execution_count": 1,
      "outputs": []
    },
    {
      "cell_type": "code",
      "metadata": {
        "colab": {
          "base_uri": "https://localhost:8080/",
          "height": 309
        },
        "id": "VNTUKCXumL2M",
        "outputId": "0b13c8b5-6a2e-464e-cb96-38fe30610f69"
      },
      "source": [
        "df=pd.read_csv(\"/content/telecom_churn.csv\")\n",
        "df.head()"
      ],
      "execution_count": 2,
      "outputs": [
        {
          "output_type": "execute_result",
          "data": {
            "text/html": [
              "<div>\n",
              "<style scoped>\n",
              "    .dataframe tbody tr th:only-of-type {\n",
              "        vertical-align: middle;\n",
              "    }\n",
              "\n",
              "    .dataframe tbody tr th {\n",
              "        vertical-align: top;\n",
              "    }\n",
              "\n",
              "    .dataframe thead th {\n",
              "        text-align: right;\n",
              "    }\n",
              "</style>\n",
              "<table border=\"1\" class=\"dataframe\">\n",
              "  <thead>\n",
              "    <tr style=\"text-align: right;\">\n",
              "      <th></th>\n",
              "      <th>customerID</th>\n",
              "      <th>gender</th>\n",
              "      <th>SeniorCitizen</th>\n",
              "      <th>Partner</th>\n",
              "      <th>Dependents</th>\n",
              "      <th>tenure</th>\n",
              "      <th>PhoneService</th>\n",
              "      <th>MultipleLines</th>\n",
              "      <th>InternetService</th>\n",
              "      <th>OnlineSecurity</th>\n",
              "      <th>OnlineBackup</th>\n",
              "      <th>DeviceProtection</th>\n",
              "      <th>TechSupport</th>\n",
              "      <th>StreamingTV</th>\n",
              "      <th>StreamingMovies</th>\n",
              "      <th>Contract</th>\n",
              "      <th>PaperlessBilling</th>\n",
              "      <th>PaymentMethod</th>\n",
              "      <th>MonthlyCharges</th>\n",
              "      <th>TotalCharges</th>\n",
              "      <th>Churn</th>\n",
              "    </tr>\n",
              "  </thead>\n",
              "  <tbody>\n",
              "    <tr>\n",
              "      <th>0</th>\n",
              "      <td>7590-VHVEG</td>\n",
              "      <td>Female</td>\n",
              "      <td>0</td>\n",
              "      <td>Yes</td>\n",
              "      <td>No</td>\n",
              "      <td>1</td>\n",
              "      <td>No</td>\n",
              "      <td>No phone service</td>\n",
              "      <td>DSL</td>\n",
              "      <td>No</td>\n",
              "      <td>Yes</td>\n",
              "      <td>No</td>\n",
              "      <td>No</td>\n",
              "      <td>No</td>\n",
              "      <td>No</td>\n",
              "      <td>Month-to-month</td>\n",
              "      <td>Yes</td>\n",
              "      <td>Electronic check</td>\n",
              "      <td>29.85</td>\n",
              "      <td>29.85</td>\n",
              "      <td>No</td>\n",
              "    </tr>\n",
              "    <tr>\n",
              "      <th>1</th>\n",
              "      <td>5575-GNVDE</td>\n",
              "      <td>Male</td>\n",
              "      <td>0</td>\n",
              "      <td>No</td>\n",
              "      <td>No</td>\n",
              "      <td>34</td>\n",
              "      <td>Yes</td>\n",
              "      <td>No</td>\n",
              "      <td>DSL</td>\n",
              "      <td>Yes</td>\n",
              "      <td>No</td>\n",
              "      <td>Yes</td>\n",
              "      <td>No</td>\n",
              "      <td>No</td>\n",
              "      <td>No</td>\n",
              "      <td>One year</td>\n",
              "      <td>No</td>\n",
              "      <td>Mailed check</td>\n",
              "      <td>56.95</td>\n",
              "      <td>1889.5</td>\n",
              "      <td>No</td>\n",
              "    </tr>\n",
              "    <tr>\n",
              "      <th>2</th>\n",
              "      <td>3668-QPYBK</td>\n",
              "      <td>Male</td>\n",
              "      <td>0</td>\n",
              "      <td>No</td>\n",
              "      <td>No</td>\n",
              "      <td>2</td>\n",
              "      <td>Yes</td>\n",
              "      <td>No</td>\n",
              "      <td>DSL</td>\n",
              "      <td>Yes</td>\n",
              "      <td>Yes</td>\n",
              "      <td>No</td>\n",
              "      <td>No</td>\n",
              "      <td>No</td>\n",
              "      <td>No</td>\n",
              "      <td>Month-to-month</td>\n",
              "      <td>Yes</td>\n",
              "      <td>Mailed check</td>\n",
              "      <td>53.85</td>\n",
              "      <td>108.15</td>\n",
              "      <td>Yes</td>\n",
              "    </tr>\n",
              "    <tr>\n",
              "      <th>3</th>\n",
              "      <td>7795-CFOCW</td>\n",
              "      <td>Male</td>\n",
              "      <td>0</td>\n",
              "      <td>No</td>\n",
              "      <td>No</td>\n",
              "      <td>45</td>\n",
              "      <td>No</td>\n",
              "      <td>No phone service</td>\n",
              "      <td>DSL</td>\n",
              "      <td>Yes</td>\n",
              "      <td>No</td>\n",
              "      <td>Yes</td>\n",
              "      <td>Yes</td>\n",
              "      <td>No</td>\n",
              "      <td>No</td>\n",
              "      <td>One year</td>\n",
              "      <td>No</td>\n",
              "      <td>Bank transfer (automatic)</td>\n",
              "      <td>42.30</td>\n",
              "      <td>1840.75</td>\n",
              "      <td>No</td>\n",
              "    </tr>\n",
              "    <tr>\n",
              "      <th>4</th>\n",
              "      <td>9237-HQITU</td>\n",
              "      <td>Female</td>\n",
              "      <td>0</td>\n",
              "      <td>No</td>\n",
              "      <td>No</td>\n",
              "      <td>2</td>\n",
              "      <td>Yes</td>\n",
              "      <td>No</td>\n",
              "      <td>Fiber optic</td>\n",
              "      <td>No</td>\n",
              "      <td>No</td>\n",
              "      <td>No</td>\n",
              "      <td>No</td>\n",
              "      <td>No</td>\n",
              "      <td>No</td>\n",
              "      <td>Month-to-month</td>\n",
              "      <td>Yes</td>\n",
              "      <td>Electronic check</td>\n",
              "      <td>70.70</td>\n",
              "      <td>151.65</td>\n",
              "      <td>Yes</td>\n",
              "    </tr>\n",
              "  </tbody>\n",
              "</table>\n",
              "</div>"
            ],
            "text/plain": [
              "   customerID  gender  SeniorCitizen  ... MonthlyCharges TotalCharges  Churn\n",
              "0  7590-VHVEG  Female              0  ...          29.85        29.85     No\n",
              "1  5575-GNVDE    Male              0  ...          56.95       1889.5     No\n",
              "2  3668-QPYBK    Male              0  ...          53.85       108.15    Yes\n",
              "3  7795-CFOCW    Male              0  ...          42.30      1840.75     No\n",
              "4  9237-HQITU  Female              0  ...          70.70       151.65    Yes\n",
              "\n",
              "[5 rows x 21 columns]"
            ]
          },
          "metadata": {},
          "execution_count": 2
        }
      ]
    },
    {
      "cell_type": "code",
      "metadata": {
        "colab": {
          "base_uri": "https://localhost:8080/",
          "height": 292
        },
        "id": "2wKHBXwHmRiA",
        "outputId": "4f5a2666-4c38-486e-b96e-e0ff4c7eda4d"
      },
      "source": [
        "df.drop(columns='customerID', axis=1, inplace=True)\n",
        "df.head()"
      ],
      "execution_count": 3,
      "outputs": [
        {
          "output_type": "execute_result",
          "data": {
            "text/html": [
              "<div>\n",
              "<style scoped>\n",
              "    .dataframe tbody tr th:only-of-type {\n",
              "        vertical-align: middle;\n",
              "    }\n",
              "\n",
              "    .dataframe tbody tr th {\n",
              "        vertical-align: top;\n",
              "    }\n",
              "\n",
              "    .dataframe thead th {\n",
              "        text-align: right;\n",
              "    }\n",
              "</style>\n",
              "<table border=\"1\" class=\"dataframe\">\n",
              "  <thead>\n",
              "    <tr style=\"text-align: right;\">\n",
              "      <th></th>\n",
              "      <th>gender</th>\n",
              "      <th>SeniorCitizen</th>\n",
              "      <th>Partner</th>\n",
              "      <th>Dependents</th>\n",
              "      <th>tenure</th>\n",
              "      <th>PhoneService</th>\n",
              "      <th>MultipleLines</th>\n",
              "      <th>InternetService</th>\n",
              "      <th>OnlineSecurity</th>\n",
              "      <th>OnlineBackup</th>\n",
              "      <th>DeviceProtection</th>\n",
              "      <th>TechSupport</th>\n",
              "      <th>StreamingTV</th>\n",
              "      <th>StreamingMovies</th>\n",
              "      <th>Contract</th>\n",
              "      <th>PaperlessBilling</th>\n",
              "      <th>PaymentMethod</th>\n",
              "      <th>MonthlyCharges</th>\n",
              "      <th>TotalCharges</th>\n",
              "      <th>Churn</th>\n",
              "    </tr>\n",
              "  </thead>\n",
              "  <tbody>\n",
              "    <tr>\n",
              "      <th>0</th>\n",
              "      <td>Female</td>\n",
              "      <td>0</td>\n",
              "      <td>Yes</td>\n",
              "      <td>No</td>\n",
              "      <td>1</td>\n",
              "      <td>No</td>\n",
              "      <td>No phone service</td>\n",
              "      <td>DSL</td>\n",
              "      <td>No</td>\n",
              "      <td>Yes</td>\n",
              "      <td>No</td>\n",
              "      <td>No</td>\n",
              "      <td>No</td>\n",
              "      <td>No</td>\n",
              "      <td>Month-to-month</td>\n",
              "      <td>Yes</td>\n",
              "      <td>Electronic check</td>\n",
              "      <td>29.85</td>\n",
              "      <td>29.85</td>\n",
              "      <td>No</td>\n",
              "    </tr>\n",
              "    <tr>\n",
              "      <th>1</th>\n",
              "      <td>Male</td>\n",
              "      <td>0</td>\n",
              "      <td>No</td>\n",
              "      <td>No</td>\n",
              "      <td>34</td>\n",
              "      <td>Yes</td>\n",
              "      <td>No</td>\n",
              "      <td>DSL</td>\n",
              "      <td>Yes</td>\n",
              "      <td>No</td>\n",
              "      <td>Yes</td>\n",
              "      <td>No</td>\n",
              "      <td>No</td>\n",
              "      <td>No</td>\n",
              "      <td>One year</td>\n",
              "      <td>No</td>\n",
              "      <td>Mailed check</td>\n",
              "      <td>56.95</td>\n",
              "      <td>1889.5</td>\n",
              "      <td>No</td>\n",
              "    </tr>\n",
              "    <tr>\n",
              "      <th>2</th>\n",
              "      <td>Male</td>\n",
              "      <td>0</td>\n",
              "      <td>No</td>\n",
              "      <td>No</td>\n",
              "      <td>2</td>\n",
              "      <td>Yes</td>\n",
              "      <td>No</td>\n",
              "      <td>DSL</td>\n",
              "      <td>Yes</td>\n",
              "      <td>Yes</td>\n",
              "      <td>No</td>\n",
              "      <td>No</td>\n",
              "      <td>No</td>\n",
              "      <td>No</td>\n",
              "      <td>Month-to-month</td>\n",
              "      <td>Yes</td>\n",
              "      <td>Mailed check</td>\n",
              "      <td>53.85</td>\n",
              "      <td>108.15</td>\n",
              "      <td>Yes</td>\n",
              "    </tr>\n",
              "    <tr>\n",
              "      <th>3</th>\n",
              "      <td>Male</td>\n",
              "      <td>0</td>\n",
              "      <td>No</td>\n",
              "      <td>No</td>\n",
              "      <td>45</td>\n",
              "      <td>No</td>\n",
              "      <td>No phone service</td>\n",
              "      <td>DSL</td>\n",
              "      <td>Yes</td>\n",
              "      <td>No</td>\n",
              "      <td>Yes</td>\n",
              "      <td>Yes</td>\n",
              "      <td>No</td>\n",
              "      <td>No</td>\n",
              "      <td>One year</td>\n",
              "      <td>No</td>\n",
              "      <td>Bank transfer (automatic)</td>\n",
              "      <td>42.30</td>\n",
              "      <td>1840.75</td>\n",
              "      <td>No</td>\n",
              "    </tr>\n",
              "    <tr>\n",
              "      <th>4</th>\n",
              "      <td>Female</td>\n",
              "      <td>0</td>\n",
              "      <td>No</td>\n",
              "      <td>No</td>\n",
              "      <td>2</td>\n",
              "      <td>Yes</td>\n",
              "      <td>No</td>\n",
              "      <td>Fiber optic</td>\n",
              "      <td>No</td>\n",
              "      <td>No</td>\n",
              "      <td>No</td>\n",
              "      <td>No</td>\n",
              "      <td>No</td>\n",
              "      <td>No</td>\n",
              "      <td>Month-to-month</td>\n",
              "      <td>Yes</td>\n",
              "      <td>Electronic check</td>\n",
              "      <td>70.70</td>\n",
              "      <td>151.65</td>\n",
              "      <td>Yes</td>\n",
              "    </tr>\n",
              "  </tbody>\n",
              "</table>\n",
              "</div>"
            ],
            "text/plain": [
              "   gender  SeniorCitizen Partner  ... MonthlyCharges  TotalCharges Churn\n",
              "0  Female              0     Yes  ...          29.85         29.85    No\n",
              "1    Male              0      No  ...          56.95        1889.5    No\n",
              "2    Male              0      No  ...          53.85        108.15   Yes\n",
              "3    Male              0      No  ...          42.30       1840.75    No\n",
              "4  Female              0      No  ...          70.70        151.65   Yes\n",
              "\n",
              "[5 rows x 20 columns]"
            ]
          },
          "metadata": {},
          "execution_count": 3
        }
      ]
    },
    {
      "cell_type": "code",
      "metadata": {
        "colab": {
          "base_uri": "https://localhost:8080/"
        },
        "id": "7d-Pa0vqmWfF",
        "outputId": "3d24e9fc-7ca5-4785-bf3b-2d18370cca07"
      },
      "source": [
        "df.shape"
      ],
      "execution_count": 4,
      "outputs": [
        {
          "output_type": "execute_result",
          "data": {
            "text/plain": [
              "(7043, 20)"
            ]
          },
          "metadata": {},
          "execution_count": 4
        }
      ]
    },
    {
      "cell_type": "code",
      "metadata": {
        "colab": {
          "base_uri": "https://localhost:8080/"
        },
        "id": "bdfffYWjmaE7",
        "outputId": "cd50db36-81ba-4220-d189-2af8d6040172"
      },
      "source": [
        "df.info()"
      ],
      "execution_count": 5,
      "outputs": [
        {
          "output_type": "stream",
          "name": "stdout",
          "text": [
            "<class 'pandas.core.frame.DataFrame'>\n",
            "RangeIndex: 7043 entries, 0 to 7042\n",
            "Data columns (total 20 columns):\n",
            " #   Column            Non-Null Count  Dtype  \n",
            "---  ------            --------------  -----  \n",
            " 0   gender            7043 non-null   object \n",
            " 1   SeniorCitizen     7043 non-null   int64  \n",
            " 2   Partner           7043 non-null   object \n",
            " 3   Dependents        7043 non-null   object \n",
            " 4   tenure            7043 non-null   int64  \n",
            " 5   PhoneService      7043 non-null   object \n",
            " 6   MultipleLines     7043 non-null   object \n",
            " 7   InternetService   7043 non-null   object \n",
            " 8   OnlineSecurity    7043 non-null   object \n",
            " 9   OnlineBackup      7043 non-null   object \n",
            " 10  DeviceProtection  7043 non-null   object \n",
            " 11  TechSupport       7043 non-null   object \n",
            " 12  StreamingTV       7043 non-null   object \n",
            " 13  StreamingMovies   7043 non-null   object \n",
            " 14  Contract          7043 non-null   object \n",
            " 15  PaperlessBilling  7043 non-null   object \n",
            " 16  PaymentMethod     7043 non-null   object \n",
            " 17  MonthlyCharges    7043 non-null   float64\n",
            " 18  TotalCharges      7043 non-null   object \n",
            " 19  Churn             7043 non-null   object \n",
            "dtypes: float64(1), int64(2), object(17)\n",
            "memory usage: 1.1+ MB\n"
          ]
        }
      ]
    },
    {
      "cell_type": "code",
      "metadata": {
        "colab": {
          "base_uri": "https://localhost:8080/"
        },
        "id": "3cDxMp8DmbVF",
        "outputId": "bb5ce2db-5ff8-46fe-906b-759a442cc363"
      },
      "source": [
        "df.isnull().sum()"
      ],
      "execution_count": 6,
      "outputs": [
        {
          "output_type": "execute_result",
          "data": {
            "text/plain": [
              "gender              0\n",
              "SeniorCitizen       0\n",
              "Partner             0\n",
              "Dependents          0\n",
              "tenure              0\n",
              "PhoneService        0\n",
              "MultipleLines       0\n",
              "InternetService     0\n",
              "OnlineSecurity      0\n",
              "OnlineBackup        0\n",
              "DeviceProtection    0\n",
              "TechSupport         0\n",
              "StreamingTV         0\n",
              "StreamingMovies     0\n",
              "Contract            0\n",
              "PaperlessBilling    0\n",
              "PaymentMethod       0\n",
              "MonthlyCharges      0\n",
              "TotalCharges        0\n",
              "Churn               0\n",
              "dtype: int64"
            ]
          },
          "metadata": {},
          "execution_count": 6
        }
      ]
    },
    {
      "cell_type": "code",
      "metadata": {
        "colab": {
          "base_uri": "https://localhost:8080/"
        },
        "id": "s8s9v0xFmeGG",
        "outputId": "db409e6b-6b29-45ae-830f-d0483ad96cd3"
      },
      "source": [
        "df['TotalCharges'].value_counts()"
      ],
      "execution_count": 7,
      "outputs": [
        {
          "output_type": "execute_result",
          "data": {
            "text/plain": [
              "           11\n",
              "20.2       11\n",
              "19.75       9\n",
              "20.05       8\n",
              "19.65       8\n",
              "           ..\n",
              "1237.3      1\n",
              "4985.9      1\n",
              "4859.95     1\n",
              "3735.45     1\n",
              "38.45       1\n",
              "Name: TotalCharges, Length: 6531, dtype: int64"
            ]
          },
          "metadata": {},
          "execution_count": 7
        }
      ]
    },
    {
      "cell_type": "code",
      "metadata": {
        "id": "pkeAsCNwmjd4"
      },
      "source": [
        "df['TotalCharges'].replace(' ', np.nan, inplace=True)"
      ],
      "execution_count": 8,
      "outputs": []
    },
    {
      "cell_type": "code",
      "metadata": {
        "colab": {
          "base_uri": "https://localhost:8080/"
        },
        "id": "YRxNp2iOmoHs",
        "outputId": "30bedaf7-1b91-4f77-98f7-91014c203ead"
      },
      "source": [
        "\n",
        "df['TotalCharges'].isnull().sum()"
      ],
      "execution_count": 9,
      "outputs": [
        {
          "output_type": "execute_result",
          "data": {
            "text/plain": [
              "11"
            ]
          },
          "metadata": {},
          "execution_count": 9
        }
      ]
    },
    {
      "cell_type": "code",
      "metadata": {
        "id": "TQRZo7q7mrZI"
      },
      "source": [
        "df['TotalCharges']=df['TotalCharges'].astype('float')"
      ],
      "execution_count": 10,
      "outputs": []
    },
    {
      "cell_type": "code",
      "metadata": {
        "id": "j2U9iCPOmybe"
      },
      "source": [
        "df['TotalCharges'].fillna(df['TotalCharges'].mean(), inplace=True)\n"
      ],
      "execution_count": 11,
      "outputs": []
    },
    {
      "cell_type": "code",
      "metadata": {
        "colab": {
          "base_uri": "https://localhost:8080/"
        },
        "id": "0DDmM_fIm2Cd",
        "outputId": "c6eb8f63-58ea-4bca-ef15-471902e6ac5f"
      },
      "source": [
        "df.info()"
      ],
      "execution_count": 12,
      "outputs": [
        {
          "output_type": "stream",
          "name": "stdout",
          "text": [
            "<class 'pandas.core.frame.DataFrame'>\n",
            "RangeIndex: 7043 entries, 0 to 7042\n",
            "Data columns (total 20 columns):\n",
            " #   Column            Non-Null Count  Dtype  \n",
            "---  ------            --------------  -----  \n",
            " 0   gender            7043 non-null   object \n",
            " 1   SeniorCitizen     7043 non-null   int64  \n",
            " 2   Partner           7043 non-null   object \n",
            " 3   Dependents        7043 non-null   object \n",
            " 4   tenure            7043 non-null   int64  \n",
            " 5   PhoneService      7043 non-null   object \n",
            " 6   MultipleLines     7043 non-null   object \n",
            " 7   InternetService   7043 non-null   object \n",
            " 8   OnlineSecurity    7043 non-null   object \n",
            " 9   OnlineBackup      7043 non-null   object \n",
            " 10  DeviceProtection  7043 non-null   object \n",
            " 11  TechSupport       7043 non-null   object \n",
            " 12  StreamingTV       7043 non-null   object \n",
            " 13  StreamingMovies   7043 non-null   object \n",
            " 14  Contract          7043 non-null   object \n",
            " 15  PaperlessBilling  7043 non-null   object \n",
            " 16  PaymentMethod     7043 non-null   object \n",
            " 17  MonthlyCharges    7043 non-null   float64\n",
            " 18  TotalCharges      7043 non-null   float64\n",
            " 19  Churn             7043 non-null   object \n",
            "dtypes: float64(2), int64(2), object(16)\n",
            "memory usage: 1.1+ MB\n"
          ]
        }
      ]
    },
    {
      "cell_type": "code",
      "metadata": {
        "id": "t2H0OJ2Em4ei"
      },
      "source": [
        "df_cat=df.select_dtypes(\"object\")"
      ],
      "execution_count": 13,
      "outputs": []
    },
    {
      "cell_type": "code",
      "metadata": {
        "id": "VEppQJ4nm8K9"
      },
      "source": [
        "\n",
        "le = LabelEncoder()\n",
        "for col in df_cat :\n",
        "  df_cat[col] = le.fit_transform(df_cat[col])"
      ],
      "execution_count": 14,
      "outputs": []
    },
    {
      "cell_type": "code",
      "metadata": {
        "colab": {
          "base_uri": "https://localhost:8080/",
          "height": 224
        },
        "id": "Vo2TB19knCmG",
        "outputId": "f790b36f-16ab-45d2-a566-3d68e290b0e1"
      },
      "source": [
        "df_cat.head()"
      ],
      "execution_count": 15,
      "outputs": [
        {
          "output_type": "execute_result",
          "data": {
            "text/html": [
              "<div>\n",
              "<style scoped>\n",
              "    .dataframe tbody tr th:only-of-type {\n",
              "        vertical-align: middle;\n",
              "    }\n",
              "\n",
              "    .dataframe tbody tr th {\n",
              "        vertical-align: top;\n",
              "    }\n",
              "\n",
              "    .dataframe thead th {\n",
              "        text-align: right;\n",
              "    }\n",
              "</style>\n",
              "<table border=\"1\" class=\"dataframe\">\n",
              "  <thead>\n",
              "    <tr style=\"text-align: right;\">\n",
              "      <th></th>\n",
              "      <th>gender</th>\n",
              "      <th>Partner</th>\n",
              "      <th>Dependents</th>\n",
              "      <th>PhoneService</th>\n",
              "      <th>MultipleLines</th>\n",
              "      <th>InternetService</th>\n",
              "      <th>OnlineSecurity</th>\n",
              "      <th>OnlineBackup</th>\n",
              "      <th>DeviceProtection</th>\n",
              "      <th>TechSupport</th>\n",
              "      <th>StreamingTV</th>\n",
              "      <th>StreamingMovies</th>\n",
              "      <th>Contract</th>\n",
              "      <th>PaperlessBilling</th>\n",
              "      <th>PaymentMethod</th>\n",
              "      <th>Churn</th>\n",
              "    </tr>\n",
              "  </thead>\n",
              "  <tbody>\n",
              "    <tr>\n",
              "      <th>0</th>\n",
              "      <td>0</td>\n",
              "      <td>1</td>\n",
              "      <td>0</td>\n",
              "      <td>0</td>\n",
              "      <td>1</td>\n",
              "      <td>0</td>\n",
              "      <td>0</td>\n",
              "      <td>2</td>\n",
              "      <td>0</td>\n",
              "      <td>0</td>\n",
              "      <td>0</td>\n",
              "      <td>0</td>\n",
              "      <td>0</td>\n",
              "      <td>1</td>\n",
              "      <td>2</td>\n",
              "      <td>0</td>\n",
              "    </tr>\n",
              "    <tr>\n",
              "      <th>1</th>\n",
              "      <td>1</td>\n",
              "      <td>0</td>\n",
              "      <td>0</td>\n",
              "      <td>1</td>\n",
              "      <td>0</td>\n",
              "      <td>0</td>\n",
              "      <td>2</td>\n",
              "      <td>0</td>\n",
              "      <td>2</td>\n",
              "      <td>0</td>\n",
              "      <td>0</td>\n",
              "      <td>0</td>\n",
              "      <td>1</td>\n",
              "      <td>0</td>\n",
              "      <td>3</td>\n",
              "      <td>0</td>\n",
              "    </tr>\n",
              "    <tr>\n",
              "      <th>2</th>\n",
              "      <td>1</td>\n",
              "      <td>0</td>\n",
              "      <td>0</td>\n",
              "      <td>1</td>\n",
              "      <td>0</td>\n",
              "      <td>0</td>\n",
              "      <td>2</td>\n",
              "      <td>2</td>\n",
              "      <td>0</td>\n",
              "      <td>0</td>\n",
              "      <td>0</td>\n",
              "      <td>0</td>\n",
              "      <td>0</td>\n",
              "      <td>1</td>\n",
              "      <td>3</td>\n",
              "      <td>1</td>\n",
              "    </tr>\n",
              "    <tr>\n",
              "      <th>3</th>\n",
              "      <td>1</td>\n",
              "      <td>0</td>\n",
              "      <td>0</td>\n",
              "      <td>0</td>\n",
              "      <td>1</td>\n",
              "      <td>0</td>\n",
              "      <td>2</td>\n",
              "      <td>0</td>\n",
              "      <td>2</td>\n",
              "      <td>2</td>\n",
              "      <td>0</td>\n",
              "      <td>0</td>\n",
              "      <td>1</td>\n",
              "      <td>0</td>\n",
              "      <td>0</td>\n",
              "      <td>0</td>\n",
              "    </tr>\n",
              "    <tr>\n",
              "      <th>4</th>\n",
              "      <td>0</td>\n",
              "      <td>0</td>\n",
              "      <td>0</td>\n",
              "      <td>1</td>\n",
              "      <td>0</td>\n",
              "      <td>1</td>\n",
              "      <td>0</td>\n",
              "      <td>0</td>\n",
              "      <td>0</td>\n",
              "      <td>0</td>\n",
              "      <td>0</td>\n",
              "      <td>0</td>\n",
              "      <td>0</td>\n",
              "      <td>1</td>\n",
              "      <td>2</td>\n",
              "      <td>1</td>\n",
              "    </tr>\n",
              "  </tbody>\n",
              "</table>\n",
              "</div>"
            ],
            "text/plain": [
              "   gender  Partner  Dependents  ...  PaperlessBilling  PaymentMethod  Churn\n",
              "0       0        1           0  ...                 1              2      0\n",
              "1       1        0           0  ...                 0              3      0\n",
              "2       1        0           0  ...                 1              3      1\n",
              "3       1        0           0  ...                 0              0      0\n",
              "4       0        0           0  ...                 1              2      1\n",
              "\n",
              "[5 rows x 16 columns]"
            ]
          },
          "metadata": {},
          "execution_count": 15
        }
      ]
    },
    {
      "cell_type": "code",
      "metadata": {
        "colab": {
          "base_uri": "https://localhost:8080/"
        },
        "id": "LHH3P1ECnFYy",
        "outputId": "cb508ee7-bc39-49f0-d1a3-0071efdf0e18"
      },
      "source": [
        "df['SeniorCitizen'].value_counts()"
      ],
      "execution_count": 16,
      "outputs": [
        {
          "output_type": "execute_result",
          "data": {
            "text/plain": [
              "0    5901\n",
              "1    1142\n",
              "Name: SeniorCitizen, dtype: int64"
            ]
          },
          "metadata": {},
          "execution_count": 16
        }
      ]
    },
    {
      "cell_type": "code",
      "metadata": {
        "colab": {
          "base_uri": "https://localhost:8080/",
          "height": 419
        },
        "id": "wp4EF4sXnJLr",
        "outputId": "e832dadd-112c-4ce6-899c-f8315d6fd806"
      },
      "source": [
        "df_num = df[['tenure','MonthlyCharges','TotalCharges']]\n",
        "df_num"
      ],
      "execution_count": 17,
      "outputs": [
        {
          "output_type": "execute_result",
          "data": {
            "text/html": [
              "<div>\n",
              "<style scoped>\n",
              "    .dataframe tbody tr th:only-of-type {\n",
              "        vertical-align: middle;\n",
              "    }\n",
              "\n",
              "    .dataframe tbody tr th {\n",
              "        vertical-align: top;\n",
              "    }\n",
              "\n",
              "    .dataframe thead th {\n",
              "        text-align: right;\n",
              "    }\n",
              "</style>\n",
              "<table border=\"1\" class=\"dataframe\">\n",
              "  <thead>\n",
              "    <tr style=\"text-align: right;\">\n",
              "      <th></th>\n",
              "      <th>tenure</th>\n",
              "      <th>MonthlyCharges</th>\n",
              "      <th>TotalCharges</th>\n",
              "    </tr>\n",
              "  </thead>\n",
              "  <tbody>\n",
              "    <tr>\n",
              "      <th>0</th>\n",
              "      <td>1</td>\n",
              "      <td>29.85</td>\n",
              "      <td>29.85</td>\n",
              "    </tr>\n",
              "    <tr>\n",
              "      <th>1</th>\n",
              "      <td>34</td>\n",
              "      <td>56.95</td>\n",
              "      <td>1889.50</td>\n",
              "    </tr>\n",
              "    <tr>\n",
              "      <th>2</th>\n",
              "      <td>2</td>\n",
              "      <td>53.85</td>\n",
              "      <td>108.15</td>\n",
              "    </tr>\n",
              "    <tr>\n",
              "      <th>3</th>\n",
              "      <td>45</td>\n",
              "      <td>42.30</td>\n",
              "      <td>1840.75</td>\n",
              "    </tr>\n",
              "    <tr>\n",
              "      <th>4</th>\n",
              "      <td>2</td>\n",
              "      <td>70.70</td>\n",
              "      <td>151.65</td>\n",
              "    </tr>\n",
              "    <tr>\n",
              "      <th>...</th>\n",
              "      <td>...</td>\n",
              "      <td>...</td>\n",
              "      <td>...</td>\n",
              "    </tr>\n",
              "    <tr>\n",
              "      <th>7038</th>\n",
              "      <td>24</td>\n",
              "      <td>84.80</td>\n",
              "      <td>1990.50</td>\n",
              "    </tr>\n",
              "    <tr>\n",
              "      <th>7039</th>\n",
              "      <td>72</td>\n",
              "      <td>103.20</td>\n",
              "      <td>7362.90</td>\n",
              "    </tr>\n",
              "    <tr>\n",
              "      <th>7040</th>\n",
              "      <td>11</td>\n",
              "      <td>29.60</td>\n",
              "      <td>346.45</td>\n",
              "    </tr>\n",
              "    <tr>\n",
              "      <th>7041</th>\n",
              "      <td>4</td>\n",
              "      <td>74.40</td>\n",
              "      <td>306.60</td>\n",
              "    </tr>\n",
              "    <tr>\n",
              "      <th>7042</th>\n",
              "      <td>66</td>\n",
              "      <td>105.65</td>\n",
              "      <td>6844.50</td>\n",
              "    </tr>\n",
              "  </tbody>\n",
              "</table>\n",
              "<p>7043 rows × 3 columns</p>\n",
              "</div>"
            ],
            "text/plain": [
              "      tenure  MonthlyCharges  TotalCharges\n",
              "0          1           29.85         29.85\n",
              "1         34           56.95       1889.50\n",
              "2          2           53.85        108.15\n",
              "3         45           42.30       1840.75\n",
              "4          2           70.70        151.65\n",
              "...      ...             ...           ...\n",
              "7038      24           84.80       1990.50\n",
              "7039      72          103.20       7362.90\n",
              "7040      11           29.60        346.45\n",
              "7041       4           74.40        306.60\n",
              "7042      66          105.65       6844.50\n",
              "\n",
              "[7043 rows x 3 columns]"
            ]
          },
          "metadata": {},
          "execution_count": 17
        }
      ]
    },
    {
      "cell_type": "code",
      "metadata": {
        "colab": {
          "base_uri": "https://localhost:8080/",
          "height": 224
        },
        "id": "3OcYTJW6nOk6",
        "outputId": "ed41a9bd-65d3-4b09-9de1-7d0e87f7a022"
      },
      "source": [
        "df_new = pd.concat([df_num,df_cat, df['SeniorCitizen']], axis=1)\n",
        "df_new.head()"
      ],
      "execution_count": 18,
      "outputs": [
        {
          "output_type": "execute_result",
          "data": {
            "text/html": [
              "<div>\n",
              "<style scoped>\n",
              "    .dataframe tbody tr th:only-of-type {\n",
              "        vertical-align: middle;\n",
              "    }\n",
              "\n",
              "    .dataframe tbody tr th {\n",
              "        vertical-align: top;\n",
              "    }\n",
              "\n",
              "    .dataframe thead th {\n",
              "        text-align: right;\n",
              "    }\n",
              "</style>\n",
              "<table border=\"1\" class=\"dataframe\">\n",
              "  <thead>\n",
              "    <tr style=\"text-align: right;\">\n",
              "      <th></th>\n",
              "      <th>tenure</th>\n",
              "      <th>MonthlyCharges</th>\n",
              "      <th>TotalCharges</th>\n",
              "      <th>gender</th>\n",
              "      <th>Partner</th>\n",
              "      <th>Dependents</th>\n",
              "      <th>PhoneService</th>\n",
              "      <th>MultipleLines</th>\n",
              "      <th>InternetService</th>\n",
              "      <th>OnlineSecurity</th>\n",
              "      <th>OnlineBackup</th>\n",
              "      <th>DeviceProtection</th>\n",
              "      <th>TechSupport</th>\n",
              "      <th>StreamingTV</th>\n",
              "      <th>StreamingMovies</th>\n",
              "      <th>Contract</th>\n",
              "      <th>PaperlessBilling</th>\n",
              "      <th>PaymentMethod</th>\n",
              "      <th>Churn</th>\n",
              "      <th>SeniorCitizen</th>\n",
              "    </tr>\n",
              "  </thead>\n",
              "  <tbody>\n",
              "    <tr>\n",
              "      <th>0</th>\n",
              "      <td>1</td>\n",
              "      <td>29.85</td>\n",
              "      <td>29.85</td>\n",
              "      <td>0</td>\n",
              "      <td>1</td>\n",
              "      <td>0</td>\n",
              "      <td>0</td>\n",
              "      <td>1</td>\n",
              "      <td>0</td>\n",
              "      <td>0</td>\n",
              "      <td>2</td>\n",
              "      <td>0</td>\n",
              "      <td>0</td>\n",
              "      <td>0</td>\n",
              "      <td>0</td>\n",
              "      <td>0</td>\n",
              "      <td>1</td>\n",
              "      <td>2</td>\n",
              "      <td>0</td>\n",
              "      <td>0</td>\n",
              "    </tr>\n",
              "    <tr>\n",
              "      <th>1</th>\n",
              "      <td>34</td>\n",
              "      <td>56.95</td>\n",
              "      <td>1889.50</td>\n",
              "      <td>1</td>\n",
              "      <td>0</td>\n",
              "      <td>0</td>\n",
              "      <td>1</td>\n",
              "      <td>0</td>\n",
              "      <td>0</td>\n",
              "      <td>2</td>\n",
              "      <td>0</td>\n",
              "      <td>2</td>\n",
              "      <td>0</td>\n",
              "      <td>0</td>\n",
              "      <td>0</td>\n",
              "      <td>1</td>\n",
              "      <td>0</td>\n",
              "      <td>3</td>\n",
              "      <td>0</td>\n",
              "      <td>0</td>\n",
              "    </tr>\n",
              "    <tr>\n",
              "      <th>2</th>\n",
              "      <td>2</td>\n",
              "      <td>53.85</td>\n",
              "      <td>108.15</td>\n",
              "      <td>1</td>\n",
              "      <td>0</td>\n",
              "      <td>0</td>\n",
              "      <td>1</td>\n",
              "      <td>0</td>\n",
              "      <td>0</td>\n",
              "      <td>2</td>\n",
              "      <td>2</td>\n",
              "      <td>0</td>\n",
              "      <td>0</td>\n",
              "      <td>0</td>\n",
              "      <td>0</td>\n",
              "      <td>0</td>\n",
              "      <td>1</td>\n",
              "      <td>3</td>\n",
              "      <td>1</td>\n",
              "      <td>0</td>\n",
              "    </tr>\n",
              "    <tr>\n",
              "      <th>3</th>\n",
              "      <td>45</td>\n",
              "      <td>42.30</td>\n",
              "      <td>1840.75</td>\n",
              "      <td>1</td>\n",
              "      <td>0</td>\n",
              "      <td>0</td>\n",
              "      <td>0</td>\n",
              "      <td>1</td>\n",
              "      <td>0</td>\n",
              "      <td>2</td>\n",
              "      <td>0</td>\n",
              "      <td>2</td>\n",
              "      <td>2</td>\n",
              "      <td>0</td>\n",
              "      <td>0</td>\n",
              "      <td>1</td>\n",
              "      <td>0</td>\n",
              "      <td>0</td>\n",
              "      <td>0</td>\n",
              "      <td>0</td>\n",
              "    </tr>\n",
              "    <tr>\n",
              "      <th>4</th>\n",
              "      <td>2</td>\n",
              "      <td>70.70</td>\n",
              "      <td>151.65</td>\n",
              "      <td>0</td>\n",
              "      <td>0</td>\n",
              "      <td>0</td>\n",
              "      <td>1</td>\n",
              "      <td>0</td>\n",
              "      <td>1</td>\n",
              "      <td>0</td>\n",
              "      <td>0</td>\n",
              "      <td>0</td>\n",
              "      <td>0</td>\n",
              "      <td>0</td>\n",
              "      <td>0</td>\n",
              "      <td>0</td>\n",
              "      <td>1</td>\n",
              "      <td>2</td>\n",
              "      <td>1</td>\n",
              "      <td>0</td>\n",
              "    </tr>\n",
              "  </tbody>\n",
              "</table>\n",
              "</div>"
            ],
            "text/plain": [
              "   tenure  MonthlyCharges  TotalCharges  ...  PaymentMethod  Churn  SeniorCitizen\n",
              "0       1           29.85         29.85  ...              2      0              0\n",
              "1      34           56.95       1889.50  ...              3      0              0\n",
              "2       2           53.85        108.15  ...              3      1              0\n",
              "3      45           42.30       1840.75  ...              0      0              0\n",
              "4       2           70.70        151.65  ...              2      1              0\n",
              "\n",
              "[5 rows x 20 columns]"
            ]
          },
          "metadata": {},
          "execution_count": 18
        }
      ]
    },
    {
      "cell_type": "code",
      "metadata": {
        "colab": {
          "base_uri": "https://localhost:8080/",
          "height": 248
        },
        "id": "1KZaqhsknRtd",
        "outputId": "a28358a9-99d0-4aa6-e3fc-0f0935ec4208"
      },
      "source": [
        "df_new['Churn'].value_counts().plot.pie(autopct=\"%1.1f%%\")\n",
        "plt.show()"
      ],
      "execution_count": 19,
      "outputs": [
        {
          "output_type": "display_data",
          "data": {
            "image/png": "[encoded data removed]",
            "text/plain": [
              "<Figure size 432x288 with 1 Axes>"
            ]
          },
          "metadata": {}
        }
      ]
    },
    {
      "cell_type": "code",
      "metadata": {
        "id": "qf_iPQ53nVEq"
      },
      "source": [
        "x = df_new.drop(\"Churn\", axis=1)\n",
        "y = df_new['Churn']"
      ],
      "execution_count": 20,
      "outputs": []
    },
    {
      "cell_type": "code",
      "metadata": {
        "id": "_8eUkkJDnX2o"
      },
      "source": [
        "xtrain, xtest, ytrain, ytest = train_test_split(x,y, test_size=0.2, random_state=1)"
      ],
      "execution_count": 21,
      "outputs": []
    },
    {
      "cell_type": "code",
      "metadata": {
        "id": "M85sxD31R7Po"
      },
      "source": [
        ""
      ],
      "execution_count": 21,
      "outputs": []
    },
    {
      "cell_type": "code",
      "metadata": {
        "id": "CEZ9Tf_onbb_"
      },
      "source": [
        "ss = StandardScaler()\n",
        "xtrain = ss.fit_transform(xtrain)\n",
        "xtest = ss.fit_transform(xtest)"
      ],
      "execution_count": 22,
      "outputs": []
    },
    {
      "cell_type": "code",
      "metadata": {
        "id": "o2VOxRnvniH-"
      },
      "source": [
        "model = Sequential()\n",
        "\n",
        "model.add(Dense(units=19,activation='relu'))\n",
        "model.add(Dense(units=19,activation='relu'))\n",
        "model.add(Dense(units=19,activation='relu'))\n",
        "model.add(Dense(units=19,activation='relu'))\n",
        "\n",
        "model.add(Dense(units=1,activation='sigmoid'))"
      ],
      "execution_count": 23,
      "outputs": []
    },
    {
      "cell_type": "code",
      "metadata": {
        "id": "ERRM1BRVnqEE"
      },
      "source": [
        "model.compile(optimizer='adam',loss='binary_crossentropy')"
      ],
      "execution_count": 24,
      "outputs": []
    },
    {
      "cell_type": "code",
      "metadata": {
        "colab": {
          "base_uri": "https://localhost:8080/"
        },
        "id": "FS9yBtSPntA9",
        "outputId": "05efe493-1d81-4f58-92bc-2e90df6a00bf"
      },
      "source": [
        "model.fit(xtrain, ytrain, epochs=300)"
      ],
      "execution_count": 25,
      "outputs": [
        {
          "output_type": "stream",
          "name": "stdout",
          "text": [
            "Epoch 1/300\n",
            "177/177 [==============================] - 1s 2ms/step - loss: 0.5271\n",
            "Epoch 2/300\n",
            "177/177 [==============================] - 0s 2ms/step - loss: 0.4419\n",
            "Epoch 3/300\n",
            "177/177 [==============================] - 0s 2ms/step - loss: 0.4312\n",
            "Epoch 4/300\n",
            "177/177 [==============================] - 0s 2ms/step - loss: 0.4281\n",
            "Epoch 5/300\n",
            "177/177 [==============================] - 0s 2ms/step - loss: 0.4216\n",
            "Epoch 6/300\n",
            "177/177 [==============================] - 0s 2ms/step - loss: 0.4201\n",
            "Epoch 7/300\n",
            "177/177 [==============================] - 0s 2ms/step - loss: 0.4159\n",
            "Epoch 8/300\n",
            "177/177 [==============================] - 0s 2ms/step - loss: 0.4152\n",
            "Epoch 9/300\n",
            "177/177 [==============================] - 0s 1ms/step - loss: 0.4116\n",
            "Epoch 10/300\n",
            "177/177 [==============================] - 0s 2ms/step - loss: 0.4097\n",
            "Epoch 11/300\n",
            "177/177 [==============================] - 0s 2ms/step - loss: 0.4079\n",
            "Epoch 12/300\n",
            "177/177 [==============================] - 0s 2ms/step - loss: 0.4073\n",
            "Epoch 13/300\n",
            "177/177 [==============================] - 0s 2ms/step - loss: 0.4059\n",
            "Epoch 14/300\n",
            "177/177 [==============================] - 0s 2ms/step - loss: 0.4028\n",
            "Epoch 15/300\n",
            "177/177 [==============================] - 0s 2ms/step - loss: 0.4013\n",
            "Epoch 16/300\n",
            "177/177 [==============================] - 0s 2ms/step - loss: 0.3991\n",
            "Epoch 17/300\n",
            "177/177 [==============================] - 0s 2ms/step - loss: 0.3979\n",
            "Epoch 18/300\n",
            "177/177 [==============================] - 0s 2ms/step - loss: 0.3980\n",
            "Epoch 19/300\n",
            "177/177 [==============================] - 0s 2ms/step - loss: 0.3954\n",
            "Epoch 20/300\n",
            "177/177 [==============================] - 0s 2ms/step - loss: 0.3926\n",
            "Epoch 21/300\n",
            "177/177 [==============================] - 0s 2ms/step - loss: 0.3908\n",
            "Epoch 22/300\n",
            "177/177 [==============================] - 0s 2ms/step - loss: 0.3907\n",
            "Epoch 23/300\n",
            "177/177 [==============================] - 0s 2ms/step - loss: 0.3886\n",
            "Epoch 24/300\n",
            "177/177 [==============================] - 0s 2ms/step - loss: 0.3859\n",
            "Epoch 25/300\n",
            "177/177 [==============================] - 0s 2ms/step - loss: 0.3842\n",
            "Epoch 26/300\n",
            "177/177 [==============================] - 0s 2ms/step - loss: 0.3823\n",
            "Epoch 27/300\n",
            "177/177 [==============================] - 0s 2ms/step - loss: 0.3813\n",
            "Epoch 28/300\n",
            "177/177 [==============================] - 0s 2ms/step - loss: 0.3795\n",
            "Epoch 29/300\n",
            "177/177 [==============================] - 0s 2ms/step - loss: 0.3779\n",
            "Epoch 30/300\n",
            "177/177 [==============================] - 0s 2ms/step - loss: 0.3762\n",
            "Epoch 31/300\n",
            "177/177 [==============================] - 0s 1ms/step - loss: 0.3754\n",
            "Epoch 32/300\n",
            "177/177 [==============================] - 0s 2ms/step - loss: 0.3726\n",
            "Epoch 33/300\n",
            "177/177 [==============================] - 0s 2ms/step - loss: 0.3713\n",
            "Epoch 34/300\n",
            "177/177 [==============================] - 0s 2ms/step - loss: 0.3703\n",
            "Epoch 35/300\n",
            "177/177 [==============================] - 0s 2ms/step - loss: 0.3683\n",
            "Epoch 36/300\n",
            "177/177 [==============================] - 0s 2ms/step - loss: 0.3690\n",
            "Epoch 37/300\n",
            "177/177 [==============================] - 0s 2ms/step - loss: 0.3641\n",
            "Epoch 38/300\n",
            "177/177 [==============================] - 0s 2ms/step - loss: 0.3637\n",
            "Epoch 39/300\n",
            "177/177 [==============================] - 0s 2ms/step - loss: 0.3598\n",
            "Epoch 40/300\n",
            "177/177 [==============================] - 0s 2ms/step - loss: 0.3603\n",
            "Epoch 41/300\n",
            "177/177 [==============================] - 0s 2ms/step - loss: 0.3571\n",
            "Epoch 42/300\n",
            "177/177 [==============================] - 0s 2ms/step - loss: 0.3574\n",
            "Epoch 43/300\n",
            "177/177 [==============================] - 0s 2ms/step - loss: 0.3543\n",
            "Epoch 44/300\n",
            "177/177 [==============================] - 0s 1ms/step - loss: 0.3565\n",
            "Epoch 45/300\n",
            "177/177 [==============================] - 0s 2ms/step - loss: 0.3530\n",
            "Epoch 46/300\n",
            "177/177 [==============================] - 0s 2ms/step - loss: 0.3500\n",
            "Epoch 47/300\n",
            "177/177 [==============================] - 0s 1ms/step - loss: 0.3487\n",
            "Epoch 48/300\n",
            "177/177 [==============================] - 0s 2ms/step - loss: 0.3471\n",
            "Epoch 49/300\n",
            "177/177 [==============================] - 0s 2ms/step - loss: 0.3452\n",
            "Epoch 50/300\n",
            "177/177 [==============================] - 0s 2ms/step - loss: 0.3459\n",
            "Epoch 51/300\n",
            "177/177 [==============================] - 0s 2ms/step - loss: 0.3435\n",
            "Epoch 52/300\n",
            "177/177 [==============================] - 0s 2ms/step - loss: 0.3438\n",
            "Epoch 53/300\n",
            "177/177 [==============================] - 0s 2ms/step - loss: 0.3378\n",
            "Epoch 54/300\n",
            "177/177 [==============================] - 0s 2ms/step - loss: 0.3384\n",
            "Epoch 55/300\n",
            "177/177 [==============================] - 0s 2ms/step - loss: 0.3375\n",
            "Epoch 56/300\n",
            "177/177 [==============================] - 0s 2ms/step - loss: 0.3370\n",
            "Epoch 57/300\n",
            "177/177 [==============================] - 0s 2ms/step - loss: 0.3342\n",
            "Epoch 58/300\n",
            "177/177 [==============================] - 0s 1ms/step - loss: 0.3349\n",
            "Epoch 59/300\n",
            "177/177 [==============================] - 0s 2ms/step - loss: 0.3348\n",
            "Epoch 60/300\n",
            "177/177 [==============================] - 0s 2ms/step - loss: 0.3326\n",
            "Epoch 61/300\n",
            "177/177 [==============================] - 0s 2ms/step - loss: 0.3287\n",
            "Epoch 62/300\n",
            "177/177 [==============================] - 0s 2ms/step - loss: 0.3286\n",
            "Epoch 63/300\n",
            "177/177 [==============================] - 0s 2ms/step - loss: 0.3276\n",
            "Epoch 64/300\n",
            "177/177 [==============================] - 0s 2ms/step - loss: 0.3267\n",
            "Epoch 65/300\n",
            "177/177 [==============================] - 0s 2ms/step - loss: 0.3245\n",
            "Epoch 66/300\n",
            "177/177 [==============================] - 0s 2ms/step - loss: 0.3247\n",
            "Epoch 67/300\n",
            "177/177 [==============================] - 0s 2ms/step - loss: 0.3239\n",
            "Epoch 68/300\n",
            "177/177 [==============================] - 0s 1ms/step - loss: 0.3214\n",
            "Epoch 69/300\n",
            "177/177 [==============================] - 0s 2ms/step - loss: 0.3243\n",
            "Epoch 70/300\n",
            "177/177 [==============================] - 0s 2ms/step - loss: 0.3191\n",
            "Epoch 71/300\n",
            "177/177 [==============================] - 0s 2ms/step - loss: 0.3192\n",
            "Epoch 72/300\n",
            "177/177 [==============================] - 0s 2ms/step - loss: 0.3202\n",
            "Epoch 73/300\n",
            "177/177 [==============================] - 0s 2ms/step - loss: 0.3155\n",
            "Epoch 74/300\n",
            "177/177 [==============================] - 0s 2ms/step - loss: 0.3140\n",
            "Epoch 75/300\n",
            "177/177 [==============================] - 0s 2ms/step - loss: 0.3131\n",
            "Epoch 76/300\n",
            "177/177 [==============================] - 0s 2ms/step - loss: 0.3127\n",
            "Epoch 77/300\n",
            "177/177 [==============================] - 0s 2ms/step - loss: 0.3129\n",
            "Epoch 78/300\n",
            "177/177 [==============================] - 0s 2ms/step - loss: 0.3117\n",
            "Epoch 79/300\n",
            "177/177 [==============================] - 0s 2ms/step - loss: 0.3098\n",
            "Epoch 80/300\n",
            "177/177 [==============================] - 0s 2ms/step - loss: 0.3110\n",
            "Epoch 81/300\n",
            "177/177 [==============================] - 0s 2ms/step - loss: 0.3078\n",
            "Epoch 82/300\n",
            "177/177 [==============================] - 0s 2ms/step - loss: 0.3086\n",
            "Epoch 83/300\n",
            "177/177 [==============================] - 0s 2ms/step - loss: 0.3050\n",
            "Epoch 84/300\n",
            "177/177 [==============================] - 0s 2ms/step - loss: 0.3048\n",
            "Epoch 85/300\n",
            "177/177 [==============================] - 0s 2ms/step - loss: 0.3053\n",
            "Epoch 86/300\n",
            "177/177 [==============================] - 0s 2ms/step - loss: 0.3008\n",
            "Epoch 87/300\n",
            "177/177 [==============================] - 0s 2ms/step - loss: 0.3028\n",
            "Epoch 88/300\n",
            "177/177 [==============================] - 0s 2ms/step - loss: 0.3006\n",
            "Epoch 89/300\n",
            "177/177 [==============================] - 0s 2ms/step - loss: 0.3008\n",
            "Epoch 90/300\n",
            "177/177 [==============================] - 0s 2ms/step - loss: 0.2992\n",
            "Epoch 91/300\n",
            "177/177 [==============================] - 0s 2ms/step - loss: 0.2984\n",
            "Epoch 92/300\n",
            "177/177 [==============================] - 0s 2ms/step - loss: 0.2988\n",
            "Epoch 93/300\n",
            "177/177 [==============================] - 0s 2ms/step - loss: 0.2990\n",
            "Epoch 94/300\n",
            "177/177 [==============================] - 0s 2ms/step - loss: 0.2956\n",
            "Epoch 95/300\n",
            "177/177 [==============================] - 0s 2ms/step - loss: 0.2975\n",
            "Epoch 96/300\n",
            "177/177 [==============================] - 0s 2ms/step - loss: 0.2964\n",
            "Epoch 97/300\n",
            "177/177 [==============================] - 0s 2ms/step - loss: 0.2915\n",
            "Epoch 98/300\n",
            "177/177 [==============================] - 0s 2ms/step - loss: 0.2915\n",
            "Epoch 99/300\n",
            "177/177 [==============================] - 0s 2ms/step - loss: 0.2939\n",
            "Epoch 100/300\n",
            "177/177 [==============================] - 0s 2ms/step - loss: 0.2922\n",
            "Epoch 101/300\n",
            "177/177 [==============================] - 0s 2ms/step - loss: 0.2908\n",
            "Epoch 102/300\n",
            "177/177 [==============================] - 0s 2ms/step - loss: 0.2905\n",
            "Epoch 103/300\n",
            "177/177 [==============================] - 0s 2ms/step - loss: 0.2901\n",
            "Epoch 104/300\n",
            "177/177 [==============================] - 0s 2ms/step - loss: 0.2902\n",
            "Epoch 105/300\n",
            "177/177 [==============================] - 0s 2ms/step - loss: 0.2877\n",
            "Epoch 106/300\n",
            "177/177 [==============================] - 0s 2ms/step - loss: 0.2866\n",
            "Epoch 107/300\n",
            "177/177 [==============================] - 0s 2ms/step - loss: 0.2870\n",
            "Epoch 108/300\n",
            "177/177 [==============================] - 0s 2ms/step - loss: 0.2886\n",
            "Epoch 109/300\n",
            "177/177 [==============================] - 0s 2ms/step - loss: 0.2896\n",
            "Epoch 110/300\n",
            "177/177 [==============================] - 0s 2ms/step - loss: 0.2895\n",
            "Epoch 111/300\n",
            "177/177 [==============================] - 0s 2ms/step - loss: 0.2817\n",
            "Epoch 112/300\n",
            "177/177 [==============================] - 0s 2ms/step - loss: 0.2806\n",
            "Epoch 113/300\n",
            "177/177 [==============================] - 0s 2ms/step - loss: 0.2822\n",
            "Epoch 114/300\n",
            "177/177 [==============================] - 0s 2ms/step - loss: 0.2815\n",
            "Epoch 115/300\n",
            "177/177 [==============================] - 0s 2ms/step - loss: 0.2811\n",
            "Epoch 116/300\n",
            "177/177 [==============================] - 0s 2ms/step - loss: 0.2802\n",
            "Epoch 117/300\n",
            "177/177 [==============================] - 0s 2ms/step - loss: 0.2821\n",
            "Epoch 118/300\n",
            "177/177 [==============================] - 0s 2ms/step - loss: 0.2847\n",
            "Epoch 119/300\n",
            "177/177 [==============================] - 0s 2ms/step - loss: 0.2791\n",
            "Epoch 120/300\n",
            "177/177 [==============================] - 0s 2ms/step - loss: 0.2764\n",
            "Epoch 121/300\n",
            "177/177 [==============================] - 0s 2ms/step - loss: 0.2788\n",
            "Epoch 122/300\n",
            "177/177 [==============================] - 0s 2ms/step - loss: 0.2748\n",
            "Epoch 123/300\n",
            "177/177 [==============================] - 0s 2ms/step - loss: 0.2738\n",
            "Epoch 124/300\n",
            "177/177 [==============================] - 0s 2ms/step - loss: 0.2783\n",
            "Epoch 125/300\n",
            "177/177 [==============================] - 0s 2ms/step - loss: 0.2731\n",
            "Epoch 126/300\n",
            "177/177 [==============================] - 0s 2ms/step - loss: 0.2790\n",
            "Epoch 127/300\n",
            "177/177 [==============================] - 0s 2ms/step - loss: 0.2719\n",
            "Epoch 128/300\n",
            "177/177 [==============================] - 0s 2ms/step - loss: 0.2707\n",
            "Epoch 129/300\n",
            "177/177 [==============================] - 0s 2ms/step - loss: 0.2715\n",
            "Epoch 130/300\n",
            "177/177 [==============================] - 0s 2ms/step - loss: 0.2726\n",
            "Epoch 131/300\n",
            "177/177 [==============================] - 0s 2ms/step - loss: 0.2716\n",
            "Epoch 132/300\n",
            "177/177 [==============================] - 0s 2ms/step - loss: 0.2793\n",
            "Epoch 133/300\n",
            "177/177 [==============================] - 0s 2ms/step - loss: 0.2666\n",
            "Epoch 134/300\n",
            "177/177 [==============================] - 0s 2ms/step - loss: 0.2727\n",
            "Epoch 135/300\n",
            "177/177 [==============================] - 0s 2ms/step - loss: 0.2669\n",
            "Epoch 136/300\n",
            "177/177 [==============================] - 0s 2ms/step - loss: 0.2706\n",
            "Epoch 137/300\n",
            "177/177 [==============================] - 0s 2ms/step - loss: 0.2729\n",
            "Epoch 138/300\n",
            "177/177 [==============================] - 0s 2ms/step - loss: 0.2637\n",
            "Epoch 139/300\n",
            "177/177 [==============================] - 0s 2ms/step - loss: 0.2683\n",
            "Epoch 140/300\n",
            "177/177 [==============================] - 0s 2ms/step - loss: 0.2673\n",
            "Epoch 141/300\n",
            "177/177 [==============================] - 0s 2ms/step - loss: 0.2626\n",
            "Epoch 142/300\n",
            "177/177 [==============================] - 0s 2ms/step - loss: 0.2654\n",
            "Epoch 143/300\n",
            "177/177 [==============================] - 0s 2ms/step - loss: 0.2638\n",
            "Epoch 144/300\n",
            "177/177 [==============================] - 0s 2ms/step - loss: 0.2615\n",
            "Epoch 145/300\n",
            "177/177 [==============================] - 0s 2ms/step - loss: 0.2665\n",
            "Epoch 146/300\n",
            "177/177 [==============================] - 0s 2ms/step - loss: 0.2697\n",
            "Epoch 147/300\n",
            "177/177 [==============================] - 0s 2ms/step - loss: 0.2613\n",
            "Epoch 148/300\n",
            "177/177 [==============================] - 0s 2ms/step - loss: 0.2603\n",
            "Epoch 149/300\n",
            "177/177 [==============================] - 0s 2ms/step - loss: 0.2612\n",
            "Epoch 150/300\n",
            "177/177 [==============================] - 0s 2ms/step - loss: 0.2599\n",
            "Epoch 151/300\n",
            "177/177 [==============================] - 0s 2ms/step - loss: 0.2595\n",
            "Epoch 152/300\n",
            "177/177 [==============================] - 0s 2ms/step - loss: 0.2572\n",
            "Epoch 153/300\n",
            "177/177 [==============================] - 0s 2ms/step - loss: 0.2614\n",
            "Epoch 154/300\n",
            "177/177 [==============================] - 0s 2ms/step - loss: 0.2594\n",
            "Epoch 155/300\n",
            "177/177 [==============================] - 0s 2ms/step - loss: 0.2588\n",
            "Epoch 156/300\n",
            "177/177 [==============================] - 0s 2ms/step - loss: 0.2573\n",
            "Epoch 157/300\n",
            "177/177 [==============================] - 0s 2ms/step - loss: 0.2582\n",
            "Epoch 158/300\n",
            "177/177 [==============================] - 0s 2ms/step - loss: 0.2558\n",
            "Epoch 159/300\n",
            "177/177 [==============================] - 0s 2ms/step - loss: 0.2546\n",
            "Epoch 160/300\n",
            "177/177 [==============================] - 0s 2ms/step - loss: 0.2522\n",
            "Epoch 161/300\n",
            "177/177 [==============================] - 0s 2ms/step - loss: 0.2560\n",
            "Epoch 162/300\n",
            "177/177 [==============================] - 0s 2ms/step - loss: 0.2528\n",
            "Epoch 163/300\n",
            "177/177 [==============================] - 0s 2ms/step - loss: 0.2627\n",
            "Epoch 164/300\n",
            "177/177 [==============================] - 0s 2ms/step - loss: 0.2587\n",
            "Epoch 165/300\n",
            "177/177 [==============================] - 0s 2ms/step - loss: 0.2502\n",
            "Epoch 166/300\n",
            "177/177 [==============================] - 0s 2ms/step - loss: 0.2555\n",
            "Epoch 167/300\n",
            "177/177 [==============================] - 0s 2ms/step - loss: 0.2511\n",
            "Epoch 168/300\n",
            "177/177 [==============================] - 0s 2ms/step - loss: 0.2525\n",
            "Epoch 169/300\n",
            "177/177 [==============================] - 0s 2ms/step - loss: 0.2504\n",
            "Epoch 170/300\n",
            "177/177 [==============================] - 0s 2ms/step - loss: 0.2529\n",
            "Epoch 171/300\n",
            "177/177 [==============================] - 0s 2ms/step - loss: 0.2505\n",
            "Epoch 172/300\n",
            "177/177 [==============================] - 0s 2ms/step - loss: 0.2548\n",
            "Epoch 173/300\n",
            "177/177 [==============================] - 0s 2ms/step - loss: 0.2480\n",
            "Epoch 174/300\n",
            "177/177 [==============================] - 0s 2ms/step - loss: 0.2501\n",
            "Epoch 175/300\n",
            "177/177 [==============================] - 0s 2ms/step - loss: 0.2493\n",
            "Epoch 176/300\n",
            "177/177 [==============================] - 0s 2ms/step - loss: 0.2480\n",
            "Epoch 177/300\n",
            "177/177 [==============================] - 0s 2ms/step - loss: 0.2505\n",
            "Epoch 178/300\n",
            "177/177 [==============================] - 0s 2ms/step - loss: 0.2498\n",
            "Epoch 179/300\n",
            "177/177 [==============================] - 0s 2ms/step - loss: 0.2434\n",
            "Epoch 180/300\n",
            "177/177 [==============================] - 0s 2ms/step - loss: 0.2459\n",
            "Epoch 181/300\n",
            "177/177 [==============================] - 0s 2ms/step - loss: 0.2448\n",
            "Epoch 182/300\n",
            "177/177 [==============================] - 0s 2ms/step - loss: 0.2502\n",
            "Epoch 183/300\n",
            "177/177 [==============================] - 0s 2ms/step - loss: 0.2430\n",
            "Epoch 184/300\n",
            "177/177 [==============================] - 0s 2ms/step - loss: 0.2436\n",
            "Epoch 185/300\n",
            "177/177 [==============================] - 0s 2ms/step - loss: 0.2483\n",
            "Epoch 186/300\n",
            "177/177 [==============================] - 0s 2ms/step - loss: 0.2465\n",
            "Epoch 187/300\n",
            "177/177 [==============================] - 0s 2ms/step - loss: 0.2434\n",
            "Epoch 188/300\n",
            "177/177 [==============================] - 0s 2ms/step - loss: 0.2444\n",
            "Epoch 189/300\n",
            "177/177 [==============================] - 0s 2ms/step - loss: 0.2434\n",
            "Epoch 190/300\n",
            "177/177 [==============================] - 0s 2ms/step - loss: 0.2403\n",
            "Epoch 191/300\n",
            "177/177 [==============================] - 0s 2ms/step - loss: 0.2433\n",
            "Epoch 192/300\n",
            "177/177 [==============================] - 0s 2ms/step - loss: 0.2387\n",
            "Epoch 193/300\n",
            "177/177 [==============================] - 0s 2ms/step - loss: 0.2399\n",
            "Epoch 194/300\n",
            "177/177 [==============================] - 0s 2ms/step - loss: 0.2414\n",
            "Epoch 195/300\n",
            "177/177 [==============================] - 0s 2ms/step - loss: 0.2391\n",
            "Epoch 196/300\n",
            "177/177 [==============================] - 0s 2ms/step - loss: 0.2437\n",
            "Epoch 197/300\n",
            "177/177 [==============================] - 0s 2ms/step - loss: 0.2396\n",
            "Epoch 198/300\n",
            "177/177 [==============================] - 0s 2ms/step - loss: 0.2374\n",
            "Epoch 199/300\n",
            "177/177 [==============================] - 0s 2ms/step - loss: 0.2453\n",
            "Epoch 200/300\n",
            "177/177 [==============================] - 0s 2ms/step - loss: 0.2412\n",
            "Epoch 201/300\n",
            "177/177 [==============================] - 0s 2ms/step - loss: 0.2409\n",
            "Epoch 202/300\n",
            "177/177 [==============================] - 0s 2ms/step - loss: 0.2489\n",
            "Epoch 203/300\n",
            "177/177 [==============================] - 0s 2ms/step - loss: 0.2387\n",
            "Epoch 204/300\n",
            "177/177 [==============================] - 0s 2ms/step - loss: 0.2341\n",
            "Epoch 205/300\n",
            "177/177 [==============================] - 0s 2ms/step - loss: 0.2398\n",
            "Epoch 206/300\n",
            "177/177 [==============================] - 0s 2ms/step - loss: 0.2380\n",
            "Epoch 207/300\n",
            "177/177 [==============================] - 0s 2ms/step - loss: 0.2443\n",
            "Epoch 208/300\n",
            "177/177 [==============================] - 0s 2ms/step - loss: 0.2362\n",
            "Epoch 209/300\n",
            "177/177 [==============================] - 0s 2ms/step - loss: 0.2373\n",
            "Epoch 210/300\n",
            "177/177 [==============================] - 0s 2ms/step - loss: 0.2490\n",
            "Epoch 211/300\n",
            "177/177 [==============================] - 0s 2ms/step - loss: 0.2369\n",
            "Epoch 212/300\n",
            "177/177 [==============================] - 0s 2ms/step - loss: 0.2364\n",
            "Epoch 213/300\n",
            "177/177 [==============================] - 0s 2ms/step - loss: 0.2373\n",
            "Epoch 214/300\n",
            "177/177 [==============================] - 0s 2ms/step - loss: 0.2405\n",
            "Epoch 215/300\n",
            "177/177 [==============================] - 0s 2ms/step - loss: 0.2341\n",
            "Epoch 216/300\n",
            "177/177 [==============================] - 0s 2ms/step - loss: 0.2346\n",
            "Epoch 217/300\n",
            "177/177 [==============================] - 0s 2ms/step - loss: 0.2399\n",
            "Epoch 218/300\n",
            "177/177 [==============================] - 0s 2ms/step - loss: 0.2340\n",
            "Epoch 219/300\n",
            "177/177 [==============================] - 0s 2ms/step - loss: 0.2449\n",
            "Epoch 220/300\n",
            "177/177 [==============================] - 0s 2ms/step - loss: 0.2404\n",
            "Epoch 221/300\n",
            "177/177 [==============================] - 0s 1ms/step - loss: 0.2326\n",
            "Epoch 222/300\n",
            "177/177 [==============================] - 0s 2ms/step - loss: 0.2357\n",
            "Epoch 223/300\n",
            "177/177 [==============================] - 0s 2ms/step - loss: 0.2286\n",
            "Epoch 224/300\n",
            "177/177 [==============================] - 0s 2ms/step - loss: 0.2394\n",
            "Epoch 225/300\n",
            "177/177 [==============================] - 0s 2ms/step - loss: 0.2317\n",
            "Epoch 226/300\n",
            "177/177 [==============================] - 0s 2ms/step - loss: 0.2332\n",
            "Epoch 227/300\n",
            "177/177 [==============================] - 0s 2ms/step - loss: 0.2459\n",
            "Epoch 228/300\n",
            "177/177 [==============================] - 0s 2ms/step - loss: 0.2335\n",
            "Epoch 229/300\n",
            "177/177 [==============================] - 0s 2ms/step - loss: 0.2303\n",
            "Epoch 230/300\n",
            "177/177 [==============================] - 0s 2ms/step - loss: 0.2402\n",
            "Epoch 231/300\n",
            "177/177 [==============================] - 0s 2ms/step - loss: 0.2425\n",
            "Epoch 232/300\n",
            "177/177 [==============================] - 0s 2ms/step - loss: 0.2316\n",
            "Epoch 233/300\n",
            "177/177 [==============================] - 0s 2ms/step - loss: 0.2281\n",
            "Epoch 234/300\n",
            "177/177 [==============================] - 0s 2ms/step - loss: 0.2256\n",
            "Epoch 235/300\n",
            "177/177 [==============================] - 0s 2ms/step - loss: 0.2248\n",
            "Epoch 236/300\n",
            "177/177 [==============================] - 0s 2ms/step - loss: 0.2256\n",
            "Epoch 237/300\n",
            "177/177 [==============================] - 0s 2ms/step - loss: 0.2285\n",
            "Epoch 238/300\n",
            "177/177 [==============================] - 0s 2ms/step - loss: 0.2295\n",
            "Epoch 239/300\n",
            "177/177 [==============================] - 0s 2ms/step - loss: 0.2299\n",
            "Epoch 240/300\n",
            "177/177 [==============================] - 0s 2ms/step - loss: 0.2449\n",
            "Epoch 241/300\n",
            "177/177 [==============================] - 0s 2ms/step - loss: 0.2270\n",
            "Epoch 242/300\n",
            "177/177 [==============================] - 0s 2ms/step - loss: 0.2297\n",
            "Epoch 243/300\n",
            "177/177 [==============================] - 0s 2ms/step - loss: 0.2357\n",
            "Epoch 244/300\n",
            "177/177 [==============================] - 0s 2ms/step - loss: 0.2288\n",
            "Epoch 245/300\n",
            "177/177 [==============================] - 0s 2ms/step - loss: 0.2261\n",
            "Epoch 246/300\n",
            "177/177 [==============================] - 0s 2ms/step - loss: 0.2225\n",
            "Epoch 247/300\n",
            "177/177 [==============================] - 0s 2ms/step - loss: 0.2253\n",
            "Epoch 248/300\n",
            "177/177 [==============================] - 0s 2ms/step - loss: 0.2247\n",
            "Epoch 249/300\n",
            "177/177 [==============================] - 0s 2ms/step - loss: 0.2267\n",
            "Epoch 250/300\n",
            "177/177 [==============================] - 0s 2ms/step - loss: 0.2280\n",
            "Epoch 251/300\n",
            "177/177 [==============================] - 0s 2ms/step - loss: 0.2248\n",
            "Epoch 252/300\n",
            "177/177 [==============================] - 0s 2ms/step - loss: 0.2222\n",
            "Epoch 253/300\n",
            "177/177 [==============================] - 0s 2ms/step - loss: 0.2274\n",
            "Epoch 254/300\n",
            "177/177 [==============================] - 0s 2ms/step - loss: 0.2226\n",
            "Epoch 255/300\n",
            "177/177 [==============================] - 0s 2ms/step - loss: 0.2266\n",
            "Epoch 256/300\n",
            "177/177 [==============================] - 0s 2ms/step - loss: 0.2241\n",
            "Epoch 257/300\n",
            "177/177 [==============================] - 0s 2ms/step - loss: 0.2257\n",
            "Epoch 258/300\n",
            "177/177 [==============================] - 0s 2ms/step - loss: 0.2322\n",
            "Epoch 259/300\n",
            "177/177 [==============================] - 0s 2ms/step - loss: 0.2252\n",
            "Epoch 260/300\n",
            "177/177 [==============================] - 0s 2ms/step - loss: 0.2187\n",
            "Epoch 261/300\n",
            "177/177 [==============================] - 0s 2ms/step - loss: 0.2312\n",
            "Epoch 262/300\n",
            "177/177 [==============================] - 0s 2ms/step - loss: 0.2216\n",
            "Epoch 263/300\n",
            "177/177 [==============================] - 0s 2ms/step - loss: 0.2212\n",
            "Epoch 264/300\n",
            "177/177 [==============================] - 0s 2ms/step - loss: 0.2192\n",
            "Epoch 265/300\n",
            "177/177 [==============================] - 0s 2ms/step - loss: 0.2208\n",
            "Epoch 266/300\n",
            "177/177 [==============================] - 0s 2ms/step - loss: 0.2190\n",
            "Epoch 267/300\n",
            "177/177 [==============================] - 0s 2ms/step - loss: 0.2187\n",
            "Epoch 268/300\n",
            "177/177 [==============================] - 0s 2ms/step - loss: 0.2193\n",
            "Epoch 269/300\n",
            "177/177 [==============================] - 0s 2ms/step - loss: 0.2202\n",
            "Epoch 270/300\n",
            "177/177 [==============================] - 0s 2ms/step - loss: 0.2189\n",
            "Epoch 271/300\n",
            "177/177 [==============================] - 0s 2ms/step - loss: 0.2479\n",
            "Epoch 272/300\n",
            "177/177 [==============================] - 0s 2ms/step - loss: 0.2246\n",
            "Epoch 273/300\n",
            "177/177 [==============================] - 0s 2ms/step - loss: 0.2205\n",
            "Epoch 274/300\n",
            "177/177 [==============================] - 0s 2ms/step - loss: 0.2180\n",
            "Epoch 275/300\n",
            "177/177 [==============================] - 0s 2ms/step - loss: 0.2175\n",
            "Epoch 276/300\n",
            "177/177 [==============================] - 0s 2ms/step - loss: 0.2174\n",
            "Epoch 277/300\n",
            "177/177 [==============================] - 0s 2ms/step - loss: 0.2196\n",
            "Epoch 278/300\n",
            "177/177 [==============================] - 0s 2ms/step - loss: 0.2199\n",
            "Epoch 279/300\n",
            "177/177 [==============================] - 0s 2ms/step - loss: 0.2217\n",
            "Epoch 280/300\n",
            "177/177 [==============================] - 0s 2ms/step - loss: 0.2133\n",
            "Epoch 281/300\n",
            "177/177 [==============================] - 0s 2ms/step - loss: 0.2150\n",
            "Epoch 282/300\n",
            "177/177 [==============================] - 0s 2ms/step - loss: 0.2211\n",
            "Epoch 283/300\n",
            "177/177 [==============================] - 0s 2ms/step - loss: 0.2216\n",
            "Epoch 284/300\n",
            "177/177 [==============================] - 0s 2ms/step - loss: 0.2253\n",
            "Epoch 285/300\n",
            "177/177 [==============================] - 0s 2ms/step - loss: 0.2311\n",
            "Epoch 286/300\n",
            "177/177 [==============================] - 0s 2ms/step - loss: 0.2197\n",
            "Epoch 287/300\n",
            "177/177 [==============================] - 0s 2ms/step - loss: 0.2114\n",
            "Epoch 288/300\n",
            "177/177 [==============================] - 0s 2ms/step - loss: 0.2141\n",
            "Epoch 289/300\n",
            "177/177 [==============================] - 0s 2ms/step - loss: 0.2136\n",
            "Epoch 290/300\n",
            "177/177 [==============================] - 0s 2ms/step - loss: 0.2231\n",
            "Epoch 291/300\n",
            "177/177 [==============================] - 0s 2ms/step - loss: 0.2136\n",
            "Epoch 292/300\n",
            "177/177 [==============================] - 0s 2ms/step - loss: 0.2175\n",
            "Epoch 293/300\n",
            "177/177 [==============================] - 0s 2ms/step - loss: 0.2153\n",
            "Epoch 294/300\n",
            "177/177 [==============================] - 0s 2ms/step - loss: 0.2166\n",
            "Epoch 295/300\n",
            "177/177 [==============================] - 0s 2ms/step - loss: 0.2167\n",
            "Epoch 296/300\n",
            "177/177 [==============================] - 0s 2ms/step - loss: 0.2221\n",
            "Epoch 297/300\n",
            "177/177 [==============================] - 0s 2ms/step - loss: 0.2153\n",
            "Epoch 298/300\n",
            "177/177 [==============================] - 0s 2ms/step - loss: 0.2129\n",
            "Epoch 299/300\n",
            "177/177 [==============================] - 0s 2ms/step - loss: 0.2111\n",
            "Epoch 300/300\n",
            "177/177 [==============================] - 0s 2ms/step - loss: 0.2136\n"
          ]
        },
        {
          "output_type": "execute_result",
          "data": {
            "text/plain": [
              "<keras.callbacks.History at 0x7fa0add61290>"
            ]
          },
          "metadata": {},
          "execution_count": 25
        }
      ]
    },
    {
      "cell_type": "code",
      "metadata": {
        "colab": {
          "base_uri": "https://localhost:8080/",
          "height": 282
        },
        "id": "T4heAuqknycg",
        "outputId": "e86e52b4-d307-45fe-c16e-757e6c9256b4"
      },
      "source": [
        "loss=pd.DataFrame(model.history.history)\n",
        "loss.plot()"
      ],
      "execution_count": 26,
      "outputs": [
        {
          "output_type": "execute_result",
          "data": {
            "text/plain": [
              "<matplotlib.axes._subplots.AxesSubplot at 0x7fa0ac49b650>"
            ]
          },
          "metadata": {},
          "execution_count": 26
        },
        {
          "output_type": "display_data",
          "data": {
            "image/png": "[encoded data removed]",
            "text/plain": [
              "<Figure size 432x288 with 1 Axes>"
            ]
          },
          "metadata": {
            "needs_background": "light"
          }
        }
      ]
    },
    {
      "cell_type": "code",
      "metadata": {
        "id": "R8sH3RNVOSeN"
      },
      "source": [
        "from tensorflow.keras.callbacks  import EarlyStopping\n",
        "\n",
        "model = Sequential()\n",
        "\n",
        "model.add(Dense(units=19,activation='relu'))\n",
        "model.add(Dense(units=19,activation='relu'))\n",
        "model.add(Dense(units=19,activation='relu'))\n",
        "model.add(Dense(units=19,activation='relu'))\n",
        "model.add(Dense(1))\n",
        "model.compile(optimizer='adam',loss='binary_crossentropy')"
      ],
      "execution_count": 27,
      "outputs": []
    },
    {
      "cell_type": "code",
      "metadata": {
        "id": "W3I5EtAROSh1"
      },
      "source": [
        "earlystop=EarlyStopping(monitor=\"val_loss\",mode=\"min\",verbose=1,patience=25)"
      ],
      "execution_count": 28,
      "outputs": []
    },
    {
      "cell_type": "code",
      "metadata": {
        "colab": {
          "base_uri": "https://localhost:8080/"
        },
        "id": "h1TnQFWrOSoC",
        "outputId": "a8e53b0f-a444-4e94-a23f-4147c25c5347"
      },
      "source": [
        "model.fit(xtrain,ytrain,epochs=600,validation_data=(xtest,ytest),callbacks=[earlystop])"
      ],
      "execution_count": 29,
      "outputs": [
        {
          "output_type": "stream",
          "name": "stdout",
          "text": [
            "Epoch 1/600\n",
            "177/177 [==============================] - 1s 3ms/step - loss: 0.5218 - val_loss: 0.4944\n",
            "Epoch 2/600\n",
            "177/177 [==============================] - 0s 2ms/step - loss: 0.4683 - val_loss: 0.4442\n",
            "Epoch 3/600\n",
            "177/177 [==============================] - 0s 2ms/step - loss: 0.4592 - val_loss: 0.4656\n",
            "Epoch 4/600\n",
            "177/177 [==============================] - 0s 2ms/step - loss: 0.4432 - val_loss: 0.4414\n",
            "Epoch 5/600\n",
            "177/177 [==============================] - 0s 2ms/step - loss: 0.4344 - val_loss: 0.4385\n",
            "Epoch 6/600\n",
            "177/177 [==============================] - 0s 2ms/step - loss: 0.4246 - val_loss: 0.4415\n",
            "Epoch 7/600\n",
            "177/177 [==============================] - 0s 2ms/step - loss: 0.4208 - val_loss: 0.4431\n",
            "Epoch 8/600\n",
            "177/177 [==============================] - 0s 2ms/step - loss: 0.4196 - val_loss: 0.4650\n",
            "Epoch 9/600\n",
            "177/177 [==============================] - 0s 2ms/step - loss: 0.4163 - val_loss: 0.4683\n",
            "Epoch 10/600\n",
            "177/177 [==============================] - 0s 2ms/step - loss: 0.4124 - val_loss: 0.4650\n",
            "Epoch 11/600\n",
            "177/177 [==============================] - 0s 2ms/step - loss: 0.4067 - val_loss: 0.4965\n",
            "Epoch 12/600\n",
            "177/177 [==============================] - 0s 2ms/step - loss: 0.4031 - val_loss: 0.4865\n",
            "Epoch 13/600\n",
            "177/177 [==============================] - 0s 2ms/step - loss: 0.4015 - val_loss: 0.5164\n",
            "Epoch 14/600\n",
            "177/177 [==============================] - 0s 2ms/step - loss: 0.4017 - val_loss: 0.5048\n",
            "Epoch 15/600\n",
            "177/177 [==============================] - 0s 2ms/step - loss: 0.3991 - val_loss: 0.4784\n",
            "Epoch 16/600\n",
            "177/177 [==============================] - 0s 2ms/step - loss: 0.3955 - val_loss: 0.4817\n",
            "Epoch 17/600\n",
            "177/177 [==============================] - 0s 2ms/step - loss: 0.3967 - val_loss: 0.4729\n",
            "Epoch 18/600\n",
            "177/177 [==============================] - 0s 2ms/step - loss: 0.3903 - val_loss: 0.5030\n",
            "Epoch 19/600\n",
            "177/177 [==============================] - 0s 2ms/step - loss: 0.3873 - val_loss: 0.5266\n",
            "Epoch 20/600\n",
            "177/177 [==============================] - 0s 2ms/step - loss: 0.3976 - val_loss: 0.5218\n",
            "Epoch 21/600\n",
            "177/177 [==============================] - 0s 2ms/step - loss: 0.3917 - val_loss: 0.5214\n",
            "Epoch 22/600\n",
            "177/177 [==============================] - 0s 2ms/step - loss: 0.3828 - val_loss: 0.5386\n",
            "Epoch 23/600\n",
            "177/177 [==============================] - 0s 2ms/step - loss: 0.3762 - val_loss: 0.5663\n",
            "Epoch 24/600\n",
            "177/177 [==============================] - 0s 2ms/step - loss: 0.3750 - val_loss: 0.5555\n",
            "Epoch 25/600\n",
            "177/177 [==============================] - 0s 2ms/step - loss: 0.3731 - val_loss: 0.5691\n",
            "Epoch 26/600\n",
            "177/177 [==============================] - 0s 2ms/step - loss: 0.3831 - val_loss: 0.5132\n",
            "Epoch 27/600\n",
            "177/177 [==============================] - 0s 2ms/step - loss: 0.3891 - val_loss: 0.5318\n",
            "Epoch 28/600\n",
            "177/177 [==============================] - 0s 2ms/step - loss: 0.3774 - val_loss: 0.5822\n",
            "Epoch 29/600\n",
            "177/177 [==============================] - 0s 2ms/step - loss: 0.3802 - val_loss: 0.6126\n",
            "Epoch 30/600\n",
            "177/177 [==============================] - 0s 2ms/step - loss: 0.3691 - val_loss: 0.5576\n",
            "Epoch 00030: early stopping\n"
          ]
        },
        {
          "output_type": "execute_result",
          "data": {
            "text/plain": [
              "<keras.callbacks.History at 0x7fa0adc59fd0>"
            ]
          },
          "metadata": {},
          "execution_count": 29
        }
      ]
    },
    {
      "cell_type": "code",
      "metadata": {
        "colab": {
          "base_uri": "https://localhost:8080/",
          "height": 282
        },
        "id": "m8dftpS-PL3b",
        "outputId": "b9091597-56e4-41c4-cd32-81ccad908963"
      },
      "source": [
        "loss=pd.DataFrame(model.history.history)\n",
        "loss.plot()"
      ],
      "execution_count": 30,
      "outputs": [
        {
          "output_type": "execute_result",
          "data": {
            "text/plain": [
              "<matplotlib.axes._subplots.AxesSubplot at 0x7fa0ac4ea690>"
            ]
          },
          "metadata": {},
          "execution_count": 30
        },
        {
          "output_type": "display_data",
          "data": {
            "image/png": "[encoded data removed]",
            "text/plain": [
              "<Figure size 432x288 with 1 Axes>"
            ]
          },
          "metadata": {
            "needs_background": "light"
          }
        }
      ]
    },
    {
      "cell_type": "code",
      "metadata": {
        "id": "3Cvffww0PXyH"
      },
      "source": [
        "from tensorflow.keras.layers import Dropout\n",
        "\n",
        "model = Sequential()\n",
        "\n",
        "model.add(Dense(units=19,activation='relu'))\n",
        "model.add(Dense(units=19,activation='relu'))\n",
        "model.add(Dense(units=19,activation='relu'))\n",
        "model.add(Dense(units=19,activation='relu'))\n",
        "model.add(Dense(1))\n",
        "model.compile(optimizer='adam',loss='binary_crossentropy')"
      ],
      "execution_count": 31,
      "outputs": []
    },
    {
      "cell_type": "code",
      "metadata": {
        "colab": {
          "base_uri": "https://localhost:8080/"
        },
        "id": "t6ChlWI7Pteo",
        "outputId": "31bc4bde-7293-4bb7-9c20-007e897348e1"
      },
      "source": [
        "model.fit(xtrain,ytrain,epochs=600,validation_data=(xtest,ytest),callbacks=[earlystop])"
      ],
      "execution_count": 32,
      "outputs": [
        {
          "output_type": "stream",
          "name": "stdout",
          "text": [
            "Epoch 1/600\n",
            "177/177 [==============================] - 1s 3ms/step - loss: 0.5423 - val_loss: 0.4633\n",
            "Epoch 2/600\n",
            "177/177 [==============================] - 0s 2ms/step - loss: 0.4906 - val_loss: 0.4407\n",
            "Epoch 3/600\n",
            "177/177 [==============================] - 0s 2ms/step - loss: 0.4653 - val_loss: 0.4561\n",
            "Epoch 4/600\n",
            "177/177 [==============================] - 0s 2ms/step - loss: 0.4554 - val_loss: 0.4559\n",
            "Epoch 5/600\n",
            "177/177 [==============================] - 0s 2ms/step - loss: 0.4418 - val_loss: 0.4576\n",
            "Epoch 6/600\n",
            "177/177 [==============================] - 0s 2ms/step - loss: 0.4394 - val_loss: 0.4566\n",
            "Epoch 7/600\n",
            "177/177 [==============================] - 0s 2ms/step - loss: 0.4333 - val_loss: 0.4410\n",
            "Epoch 8/600\n",
            "177/177 [==============================] - 0s 2ms/step - loss: 0.4341 - val_loss: 0.4639\n",
            "Epoch 9/600\n",
            "177/177 [==============================] - 0s 2ms/step - loss: 0.4336 - val_loss: 0.4456\n",
            "Epoch 10/600\n",
            "177/177 [==============================] - 0s 2ms/step - loss: 0.4245 - val_loss: 0.4535\n",
            "Epoch 11/600\n",
            "177/177 [==============================] - 0s 2ms/step - loss: 0.4188 - val_loss: 0.4568\n",
            "Epoch 12/600\n",
            "177/177 [==============================] - 0s 2ms/step - loss: 0.4213 - val_loss: 0.4555\n",
            "Epoch 13/600\n",
            "177/177 [==============================] - 0s 2ms/step - loss: 0.4144 - val_loss: 0.4593\n",
            "Epoch 14/600\n",
            "177/177 [==============================] - 0s 2ms/step - loss: 0.4341 - val_loss: 0.4577\n",
            "Epoch 15/600\n",
            "177/177 [==============================] - 0s 2ms/step - loss: 0.4205 - val_loss: 0.4683\n",
            "Epoch 16/600\n",
            "177/177 [==============================] - 0s 2ms/step - loss: 0.4145 - val_loss: 0.4648\n",
            "Epoch 17/600\n",
            "177/177 [==============================] - 0s 2ms/step - loss: 0.4104 - val_loss: 0.4631\n",
            "Epoch 18/600\n",
            "177/177 [==============================] - 0s 2ms/step - loss: 0.4087 - val_loss: 0.4662\n",
            "Epoch 19/600\n",
            "177/177 [==============================] - 0s 2ms/step - loss: 0.4096 - val_loss: 0.4760\n",
            "Epoch 20/600\n",
            "177/177 [==============================] - 0s 2ms/step - loss: 0.4050 - val_loss: 0.4654\n",
            "Epoch 21/600\n",
            "177/177 [==============================] - 0s 2ms/step - loss: 0.4015 - val_loss: 0.4850\n",
            "Epoch 22/600\n",
            "177/177 [==============================] - 0s 2ms/step - loss: 0.3994 - val_loss: 0.4764\n",
            "Epoch 23/600\n",
            "177/177 [==============================] - 0s 2ms/step - loss: 0.4024 - val_loss: 0.4811\n",
            "Epoch 24/600\n",
            "177/177 [==============================] - 0s 2ms/step - loss: 0.4107 - val_loss: 0.4679\n",
            "Epoch 25/600\n",
            "177/177 [==============================] - 0s 2ms/step - loss: 0.4046 - val_loss: 0.5005\n",
            "Epoch 26/600\n",
            "177/177 [==============================] - 0s 2ms/step - loss: 0.4008 - val_loss: 0.5132\n",
            "Epoch 27/600\n",
            "177/177 [==============================] - 0s 2ms/step - loss: 0.4038 - val_loss: 0.5130\n",
            "Epoch 00027: early stopping\n"
          ]
        },
        {
          "output_type": "execute_result",
          "data": {
            "text/plain": [
              "<keras.callbacks.History at 0x7fa0ada1a550>"
            ]
          },
          "metadata": {},
          "execution_count": 32
        }
      ]
    },
    {
      "cell_type": "code",
      "metadata": {
        "colab": {
          "base_uri": "https://localhost:8080/",
          "height": 282
        },
        "id": "XcKKj6OvP4Yi",
        "outputId": "7e7ad9a6-83c8-4a1c-f48a-335b54382112"
      },
      "source": [
        "loss=pd.DataFrame(model.history.history)\n",
        "loss.plot()"
      ],
      "execution_count": 33,
      "outputs": [
        {
          "output_type": "execute_result",
          "data": {
            "text/plain": [
              "<matplotlib.axes._subplots.AxesSubplot at 0x7fa0ada621d0>"
            ]
          },
          "metadata": {},
          "execution_count": 33
        },
        {
          "output_type": "display_data",
          "data": {
            "image/png": "[encoded data removed]",
            "text/plain": [
              "<Figure size 432x288 with 1 Axes>"
            ]
          },
          "metadata": {
            "needs_background": "light"
          }
        }
      ]
    },
    {
      "cell_type": "code",
      "metadata": {
        "id": "xs6s0TvLoRnx"
      },
      "source": [
        "ypred=model.predict(xtest)"
      ],
      "execution_count": 34,
      "outputs": []
    },
    {
      "cell_type": "code",
      "metadata": {
        "id": "lDdgkHT5oVvZ"
      },
      "source": [
        "ypred=ypred>0.5"
      ],
      "execution_count": 35,
      "outputs": []
    },
    {
      "cell_type": "code",
      "metadata": {
        "colab": {
          "base_uri": "https://localhost:8080/"
        },
        "id": "5WUKt-L9oazk",
        "outputId": "a4a59433-c8aa-4c61-f430-b0a753c87255"
      },
      "source": [
        "print(classification_report(ytest, ypred))"
      ],
      "execution_count": 36,
      "outputs": [
        {
          "output_type": "stream",
          "name": "stdout",
          "text": [
            "              precision    recall  f1-score   support\n",
            "\n",
            "           0       0.87      0.86      0.87      1061\n",
            "           1       0.59      0.59      0.59       348\n",
            "\n",
            "    accuracy                           0.80      1409\n",
            "   macro avg       0.73      0.73      0.73      1409\n",
            "weighted avg       0.80      0.80      0.80      1409\n",
            "\n"
          ]
        }
      ]
    },
    {
      "cell_type": "code",
      "metadata": {
        "id": "A3JmhQ71odeN",
        "colab": {
          "base_uri": "https://localhost:8080/"
        },
        "outputId": "68f3bb19-69f9-404a-a876-df248d64d378"
      },
      "source": [
        "from tensorflow.keras.models import load_model\n",
        "model.save(\"telecom_churn.\")"
      ],
      "execution_count": 37,
      "outputs": [
        {
          "output_type": "stream",
          "name": "stdout",
          "text": [
            "INFO:tensorflow:Assets written to: telecom_churn./assets\n"
          ]
        }
      ]
    },
    {
      "cell_type": "code",
      "metadata": {
        "id": "wiyOkq1mSpyV"
      },
      "source": [
        ""
      ],
      "execution_count": null,
      "outputs": []
    }
  ]
}